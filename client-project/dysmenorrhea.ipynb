{
  "nbformat": 4,
  "nbformat_minor": 0,
  "metadata": {
    "colab": {
      "name": "dysmenorrhea.ipynb",
      "version": "0.3.2",
      "provenance": [],
      "private_outputs": true,
      "collapsed_sections": [],
      "include_colab_link": true
    },
    "kernelspec": {
      "name": "python3",
      "display_name": "Python 3"
    }
  },
  "cells": [
    {
      "cell_type": "markdown",
      "metadata": {
        "id": "view-in-github",
        "colab_type": "text"
      },
      "source": [
        "<a href=\"https://colab.research.google.com/github/william-screen/iu-data-science-information-visualization-583/blob/master/client-project/dysmenorrhea.ipynb\" target=\"_parent\"><img src=\"https://colab.research.google.com/assets/colab-badge.svg\" alt=\"Open In Colab\"/></a>"
      ]
    },
    {
      "metadata": {
        "id": "BFYiSBc5BveB",
        "colab_type": "text"
      },
      "cell_type": "markdown",
      "source": [
        "## (1) Text-Mining of User-Generated Queries on Menstrual Pain\n",
        "\n",
        "### (2) Visualizing a collection of Dysmenorrhea related posts by age, geographic, sentiment and chronological trends \n",
        "\n",
        "#### (3) TEAM MEMBERS:\n",
        "- Ashok Reddy Singam [asingam@iu.edu]\n",
        "- Bill Screen [wscreen@iu.edu]\n",
        "- Ha-Lan Nguyen [nguyenhl@iu.edu]\n",
        "- Sunanda Unni [suunni@iu.edu]\n",
        "\n",
        "---\n",
        "\n",
        "#### (4) Description of visualization goal/need, hand-sketch of the envisioned visualization, and discussion why this project is important.\n",
        "\n",
        "Our project goal is to do further text-mining on the datasets provided by Dr. Chen X. Chen to analyze more angles from the ChaCha questions on dysmenorrhea. \n",
        "\n",
        "We want to discover how the posted questions on menstrual pain distributed among the age groups, geographic areas, how the sentiment expressed in the questions (positive or negative),  and change in the questions over time. \n",
        "\n",
        "Below are some trial visualizations from our initial analysis:\n",
        "\n",
        "*Number of asked questions based on geographic areas*:\n",
        "\n",
        "![alt text](https://i.imgsafe.org/56/56a733374c.jpeg)\n",
        "\n",
        "*Number of asked questions based on seasons*:\n",
        "\n",
        "![alt text](https://i.imgsafe.org/56/56a7d9510f.jpeg)\n",
        "\n",
        "*Bursting words in asked questions*:\n",
        "\n",
        "![alt text](https://i.imgsafe.org/56/56a81e84d0.jpeg)\n",
        "\n",
        "With many researches on this topic, we understand that painful menstruation affects between 45 to 95% of menstruating women and is a common, and even debilitating condition that affects women's mood, sleep and quality of life. \n",
        "\n",
        "Our analysis will support Dr. Chen's paper to provide deeper insights about what men and women ask about this topic. We will also provide some proposed answers to what our findings can tell. All of these will be useful in developing educational interventions to address the public's information needs which is one of the potential actions for unmet needs with dysmenorrhea analysis that Dr. Chen mentioned in her paper. \n",
        "\n",
        "\n",
        "#### (5) Discussion of related work. Here you will have to do a literature/web search to find out what approaches/visualizations already exist. You don’t want to re-invent but to build on existing work.\n",
        "\n",
        "There are several researches on dysmenorrhea with a varieties of topics ranging from looking back what we have known about dysmenorrhea to causes, management and treatment of dysmenorrhea.\n",
        "\n",
        "In the paper \"What we know about primary dysmenorrhea today: a critical review\" by Iacovides, Avidon and Baker, a comprehensive literature searches on primary dysmenorrhea were performed using the electric databases PubMed, Google Scholar and the Cochrane Library. Full-text manuscripts published between 1944 and 2015 were examined to reveal our current knowledge on this topic. (i)\n",
        "\n",
        "In the paper \"Big Data and Dysmenorrhea: What Questions Do Women and Men Ask About MenstrualPain?\" by Chen, Groves, Miller and Carpenter, Word Adjacency Graph (WAG) modeling was used to detect clusters of queries and visualize the range of dysmenorrhea-related topics. NLP was run on the posted queries, also stemming was done on the words to broaden the search to include all the words. Noise was identified and removed. Word pairs which were occuring more than 10 times were used for the modelling using Gephi. (ii)\n",
        "\n",
        "Also by Chen, Carpenter, and Draucker, they had a much smaller scale of research on \"What women say about dysmenorrhea: a qualititive themetic analysis\". This research used a sample consisted of 225 women who provided valid responses to the open-ended questions. They identified six themes: (1) Experienced symptoms varied among women; (2) Experienced symptoms varied across time; (3) Varieties of factors influence the symptoms; (4) Negative impacts on women's daily lives; (5) Dysmenorrhea was not perceived as a health issue; (6) Treatment acceptability and effectiveness for dysmenorrhea. (iii)\n",
        "\n",
        "References:\n",
        "\n",
        "(i) https://academic.oup.com/humupd/article/21/6/762/628858\n",
        "\n",
        "(ii) https://www.ncbi.nlm.nih.gov/pubmed/29708827\n",
        "\n",
        "(iii) https://bmcwomenshealth.biomedcentral.com/articles/10.1186/s12905-018-0538-8\n",
        "\n",
        "\n",
        "#### (6) Simple statistics of the data sets used, e.g., number of entities, major entity attributes, etc.\n",
        "\n",
        "We use two analytic methodologies to analyze our dataset. Method 1 is to use SQL to analyze data and Tableau to visualize the results. Method 2 is to use Sci2 to analyze data and visualize the results.\n",
        "\n",
        "In the first methodology, data file \"refined questions on dysmenorrhea - women 13 to 50 507k\" was processed by SQL to calculate question count per year, top 5 age groups with most questions asked, and top 5 states with most questions asked.\n",
        "\n",
        "Below is the results of method 1:\n",
        "\n",
        "![alt text](https://i.imgsafe.org/67/67950a99d5.png)\n",
        "\n",
        "In the second methodology, Sci2 tool was used to preprocess the two data files \"refined questions on dysmenorrhea - women 13 to 50 507k\" and \"refined questions on dysmenorrhea - men all ages 114k\", analyze and identify top 30 bursting words that were asked by all men and women in each year. As the result,  574 bursting words by men and 1726 bursting words by women were identified.\n",
        "\n",
        "\n",
        "#### (7) Data analysis/visualization (algorithms) applied and resulting visualizations.\n",
        "\n",
        "#### In the first methodology, we followed the below steps to analyze our data:####\n",
        "\n",
        "- The dataset table which includes 507,327 questions asked by women from 13 years old to 50 years old is used in SQL database.\n",
        "- A stopword list table from Sci2 installer is used together to exclude all stop words from the analysis.\n",
        "- Questions were tokenized based on different age groups and stored into another table which shows words that were most used by each group. Word were then normalized and the data table was used to visualize the dataset.\n",
        "\n",
        "The algorithms that were used in the above analysis:\n",
        "\n",
        "![alt text](https://i.imgsafe.org/68/683c05a897.png)\n",
        "\n",
        "Visualizations of top 30 bursting words asked by women in each age group (0-17, 18-24, 25-34, 35-44, 45-54)\n",
        "\n",
        "![alt text](https://i.imgsafe.org/6e/6e4ec1658e.png)\n",
        "\n",
        "![alt text](https://i.imgsafe.org/6e/6e4f06d477.png)\n",
        "\n",
        "![alt text](https://i.imgsafe.org/6e/6e4f345980.png)\n",
        "\n",
        "![alt text](https://i.imgsafe.org/6e/6e4fb8aaef.png)\n",
        "\n",
        "![alt text](https://i.imgsafe.org/6e/6e504995bc.png)\n",
        "\n",
        "\n",
        "#### In the second methodology, we followed the below steps to process and analyze our data:####\n",
        "\n",
        "- Sci2 tool was used to preprocess both the data files \"refined questions on dysmenorrhea - women 13 to 50 507k\" and \"refined questions on dysmenorrhea - men all ages 114k\". Stop words were removed while tokenizing the question text column. Stop word dictionary was used as provided in Sci2 installer.\n",
        "- Burst detection was run and 574 bursting words by men and 1726 bursting words by women were identified.\n",
        "- More stop words were identified and manually removed, such as words which are names of the persons who asked the questions (i.e. 3lostinlovewithyou, 3forever), name of the conductor of survey (i.e. lulu), initials (i.e. L.K.L, u) .\n",
        "- Temporal visualization was run on the top 30 bursting words for both men and women.\n",
        "\n",
        "Most 30 frequent words asked by men:\n",
        "\n",
        "![alt text](https://i.imgsafe.org/6d/6d8ca31df6.png)\n",
        "\n",
        "![alt text](https://i.imgsafe.org/6d/6d9112fa84.png)\n",
        "\n",
        "Most 30 frequent words asked by women:\n",
        "\n",
        "![alt text](https://i.imgsafe.org/6f/6f8f528ed1.png)\n",
        "\n",
        "![alt text](https://i.imgsafe.org/6f/6f8f8bb831.png)\n",
        "\n",
        "\n",
        "#### (8) Discussion of key insights gained from the analysis/visualization.\n",
        "\n",
        "#### In the first methodology, there are some insights we can conclude from our data analysis:####\n",
        "\n",
        "- Most questions were asked in 2010 and 2011 (184,312 and 205,417, respectively). Fewest questions were asked in 2009. It may be explained by the popularity of ChaCha website. The period of 2010 - 2011 was the most prosperous time of ChaCha. In 2010, ChaCha Inc. was recognized as one of the \"Hottest Companies in the Midwest\" by Lead411.\n",
        "\n",
        "- Top 5 ages that asked most questions are 15, 16, 17, 14 and 19. They were all teenagers. All girls started having their first menstruation during their teenage age. That can explain why they had a lot of questions and prefered to use this platform to ask to avoid embarassment.\n",
        "\n",
        "- Top 5 states that had the most number of questions are California, Indiana, Ohio, Missouri, and Texas. California is the most populous state in the US, Indiana is where ChaCha Inc. was founded, Ohio and Missouri are in midwest area. All these can explain why ChaCha was popular among people from these states.\n",
        "\n",
        "#### In the second methodology, there are some insights we got from our analysis:####\n",
        "\n",
        "- The most bursting words in the queries asked by Male are about dysmenorrhea symptoms and medication for cramps. This can be explained as the Men are mostly in caregiver role with regards to this health condition.\n",
        "\n",
        "- Top 30 bursting words are seen a lot in 2009 (the first year of all collected questions). Their frequency reduced subsequantly the following years. That is probably because the users were able to search for the same questions in the platform before they posted theirs.\n",
        "\n",
        "- \"cure\" and \"preg\" were the most used, in the queries asked by Female. It can be explained that when asking about menstrual pain, women most likely seeked a way to cure it in the early ages and cramp is highly associated with pregnancy.\n",
        "\n",
        "- The bursting words asked by women are weighted double more than those words asked by men. It is probably because there were a lot more women asking the same questions than men.\n",
        "\n",
        "\n",
        "#### (9) What problems surfaced during validation and how does your redesign resolve them?\n",
        "\n",
        "In method 2, there is no bursting words for 2011.\n",
        "\n",
        "Number of bursting words are different in method 1 and method 2 as in PLSQL we are taking a word count and sci2 identifies independent tokens. \n",
        "\n",
        "\n",
        "\n",
        "#### (10) Discussion of challenges and opportunities\n",
        "Text …\n",
        "\n",
        "#### Acknowledgements\n",
        "Thank people who provided data, tools, or resources or that helped you with this project, e.g., your\n",
        "client or colleagues/friends that participated in the validation studies.\n",
        "\n",
        "#### References\n",
        "[1] CMV2004 url: http://www.cvev.org/cmv2004/index.html\n",
        "[2] E.R. Tufte. Envisioning Information. Cheshire, CT, Graphics Press. 1990.\n",
        "[3] Sci2 Team. (2009). Science of Science (Sci2) Tool. Indiana University and SciTech Strategies,\n",
        "http://sci2.cns.iu.edu. "
      ]
    },
    {
      "metadata": {
        "id": "7iFhl7tC7K17",
        "colab_type": "text"
      },
      "cell_type": "markdown",
      "source": [
        "---\n",
        "****DATA ANALYSIS | Work in Progress ****\n",
        "\n",
        "---"
      ]
    },
    {
      "metadata": {
        "id": "Gi5QMvDY66tT",
        "colab_type": "code",
        "colab": {}
      },
      "cell_type": "code",
      "source": [
        "# Import Libraries\n",
        "\n",
        "%matplotlib inline\n",
        "import pandas as pd\n",
        "import matplotlib.pylab as plt\n",
        "import numpy as np\n",
        "from datetime import datetime"
      ],
      "execution_count": 0,
      "outputs": []
    },
    {
      "metadata": {
        "id": "kvZ-D6Yr8K4m",
        "colab_type": "text"
      },
      "cell_type": "markdown",
      "source": [
        "**Load Data**"
      ]
    },
    {
      "metadata": {
        "id": "iLlHe1e48DrM",
        "colab_type": "code",
        "colab": {}
      },
      "cell_type": "code",
      "source": [
        "# Load data file into pandas Dataframe\n",
        "df_dysmenorrhea_posts_female = pd.read_csv('dysmenorrhea_posts_female.csv')\n",
        "df_dysmenorrhea_posts_male = pd.read_csv('dysmenorrhea_posts_male.csv')\n",
        "\n",
        "# Inspect data\n",
        "# print(df.head(n=10))"
      ],
      "execution_count": 0,
      "outputs": []
    },
    {
      "metadata": {
        "id": "SfXoJFYkcfZx",
        "colab_type": "text"
      },
      "cell_type": "markdown",
      "source": [
        "**Group by Age**"
      ]
    },
    {
      "metadata": {
        "id": "e7ikXmjEcoB2",
        "colab_type": "code",
        "colab": {}
      },
      "cell_type": "code",
      "source": [
        "#Reshape the Dataframe\n",
        "female_age_df = df_dysmenorrhea_posts_female.groupby(['age'])['age'].count()\n",
        "female_age_df.plot(figsize=(10,5))\n",
        "plt.show()\n",
        "\n",
        "male_age_df = df_dysmenorrhea_posts_male.groupby(['age'])['age'].count()\n",
        "male_age_df.plot(figsize=(10,5))\n",
        "plt.show()"
      ],
      "execution_count": 0,
      "outputs": []
    },
    {
      "metadata": {
        "id": "OUkXOFnya5TJ",
        "colab_type": "text"
      },
      "cell_type": "markdown",
      "source": [
        "#### Hypothesis: Does the frequency of users post about mentral issues have a correlation to seasonality?"
      ]
    },
    {
      "metadata": {
        "id": "Wdaica31ou0S",
        "colab_type": "code",
        "colab": {}
      },
      "cell_type": "code",
      "source": [
        "# *** NOTE: FIRST RUN MAY TAKE UP TO 90 SECONDS ***\n",
        "\n",
        "# Covert 'created at' to datetime\n",
        "# --------------------\n",
        "df_dysmenorrhea_posts_female['created at'] = pd.to_datetime(df_dysmenorrhea_posts_female['created at'])\n",
        "\n",
        "# Group by year\n",
        "# --------------------\n",
        "female_post_years = df_dysmenorrhea_posts_female['created at'].dt.year\n",
        "\n",
        "# Plot years\n",
        "# --------------------\n",
        "created_at_year = df_dysmenorrhea_posts_female.groupby(female_post_years)['created at'].count()\n",
        "created_at_year.plot(title='Posts by Year', figsize=(10,5))\n",
        "plt.show() \n",
        "\n",
        "# Group by month\n",
        "# --------------------\n",
        "female_post_months = df_dysmenorrhea_posts_female['created at'].dt.month\n",
        "\n",
        "# Plot months\n",
        "# --------------------\n",
        "created_at_month = df_dysmenorrhea_posts_female.groupby(female_post_months)['created at'].count()\n",
        "created_at_month.plot(title='Posts by Month', figsize=(10,5))\n",
        "plt.show()\n",
        "\n",
        "# Plot seasons\n",
        "# --------------------\n",
        "# NEED SOLUTION\n",
        "\n",
        "# Group by week\n",
        "# --------------------\n",
        "female_post_weeks = df_dysmenorrhea_posts_female['created at'].dt.week\n",
        "\n",
        "# Plot week\n",
        "# --------------------\n",
        "created_at_weeks = df_dysmenorrhea_posts_female.groupby(female_post_weeks)['created at'].count()\n",
        "created_at_weeks.plot(title='Posts by Week', figsize=(10,5))\n",
        "plt.show()\n",
        "\n",
        "# Group by day\n",
        "# --------------------\n",
        "female_post_days = df_dysmenorrhea_posts_female['created at'].dt.day\n",
        "\n",
        "# Plot day\n",
        "# --------------------\n",
        "created_at_days = df_dysmenorrhea_posts_female.groupby(female_post_days)['created at'].count()\n",
        "created_at_days.plot(title='Posts by Day', figsize=(10,5))\n",
        "plt.show()\n",
        "\n",
        "# Group by day of week\n",
        "# --------------------\n",
        "female_post_days_of_week = df_dysmenorrhea_posts_female['created at'].dt.dayofweek\n",
        "\n",
        "# Plot day of week\n",
        "# --------------------\n",
        "created_at_days_of_week = df_dysmenorrhea_posts_female.groupby(female_post_days_of_week)['created at'].count()\n",
        "created_at_days_of_week.plot(title='Posts by Day of Week', figsize=(10,5))\n",
        "plt.show()"
      ],
      "execution_count": 0,
      "outputs": []
    },
    {
      "metadata": {
        "id": "XE9TBNQ9bWN5",
        "colab_type": "text"
      },
      "cell_type": "markdown",
      "source": [
        "##### Observations\n",
        "Analysis of postings grouped by year, month, season, day, and day of week provided a few noteworthy insights. \n",
        "First, while the number of postings per year may be related to the popularity of the now defunct website (Chacha.com) at the time, the higher than average number of postings during the summer months (see Fig2) may indicate that warmer temperatures combined with menstral cramps increase a subjects' percieved discomfort. Second, there seems to be a small uptick in the number of postings on the 12th of each month. Further analysis is required to understand if this is an outlier or within standard deviation. Finally, it was observed that the fewest postings occured on Thursday and Friday - this may be largely socio-cultural as the majority of subjects live in the US, and those days are popular for social activities. Conversly, it could be the physiological effects of anticipation for the upcoming weekend, which generally result in a sense of physical and mental relaxation.\n",
        "\n",
        "\n"
      ]
    }
  ]
}