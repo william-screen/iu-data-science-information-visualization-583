{
  "nbformat": 4,
  "nbformat_minor": 0,
  "metadata": {
    "colab": {
      "name": "dysmenorrhea.ipynb",
      "version": "0.3.2",
      "provenance": [],
      "collapsed_sections": [],
      "toc_visible": true,
      "include_colab_link": true
    },
    "kernelspec": {
      "name": "python3",
      "display_name": "Python 3"
    }
  },
  "cells": [
    {
      "cell_type": "markdown",
      "metadata": {
        "id": "view-in-github",
        "colab_type": "text"
      },
      "source": [
        "<a href=\"https://colab.research.google.com/github/william-screen/iu-data-science-information-visualization-583/blob/master/client-project/dysmenorrhea-v2.ipynb\" target=\"_parent\"><img src=\"https://colab.research.google.com/assets/colab-badge.svg\" alt=\"Open In Colab\"/></a>"
      ]
    },
    {
      "metadata": {
        "id": "BFYiSBc5BveB",
        "colab_type": "text"
      },
      "cell_type": "markdown",
      "source": [
        "# Text-Mining of User-Generated Queries on Menstrual Pain\n",
        "\n",
        "Visualizing a collection of Dysmenorrhea related posts by age, geographic, sentiment and chronological trends\n",
        "\n",
        "By:  [Ashok Reddy Singam](asingam@iu.edu), [Bill Screen](wscreen@iu.edu) , [Ha-Lan Nguyen](nguyenhl@iu.edu) , [Sunanda Unni](suunni@iu.edu) | Indiana University\n",
        "\n",
        "### What is Dysmenorrhea and why should you care?\n",
        "\n",
        "Dysmenorrhea [dis-men-uh-ree-uh] is the medical term for menstrual cramps. It is the leading cause of recurrent short-term school absence in adolescent girls and a common symptom for women of reproductive age.[10]. In the workplace, a BBC survey indicated that 50% of female workers experienced 'period pain' that affected performace on the job. [12] Many women who experience dysmenorrhea seek solutions outside of their doctors office and turn to Internet websites for answers. The objective of this project is to discover key insights for women experiencing dysmenorrhea by performing text-mining on a large dataset of dysmenorrhea related questions posted on a popular question-and-answer website[13]. The scope of analysis will involve examining selected *questions* by: age, geography, sentiment and chronological trends. "
      ]
    },
    {
      "metadata": {
        "id": "x0ImF8Y-82DY",
        "colab_type": "text"
      },
      "cell_type": "markdown",
      "source": [
        "#### Import Libraries and Load Data sets"
      ]
    },
    {
      "metadata": {
        "id": "Gi5QMvDY66tT",
        "colab_type": "code",
        "colab": {}
      },
      "cell_type": "code",
      "source": [
        "# Import Libraries\n",
        "\n",
        "%matplotlib inline\n",
        "import pandas as pd\n",
        "import matplotlib.pylab as plt\n",
        "import numpy as np\n",
        "import io\n",
        "import requests\n",
        "import urllib\n",
        "from datetime import datetime\n",
        "\n",
        "# Load data file into pandas Dataframe\n",
        "df_dysmenorrhea_posts_female = pd.read_csv('dysmenorrhea_posts_female.csv')\n",
        "#df_dysmenorrhea_posts_male = pd.read_csv('dysmenorrhea_posts_male.csv')"
      ],
      "execution_count": 0,
      "outputs": []
    },
    {
      "metadata": {
        "id": "biz-HiECTxEb",
        "colab_type": "text"
      },
      "cell_type": "markdown",
      "source": [
        "###  Dysmenorrhea and age\n",
        "\n",
        "\n",
        "In today's modern society, the average woman's reproductive years are between ages 12 and 51, which means that the **average woman will spend nearly ten years of her life menstruating and experience about 450 periods over her lifetime.**[11]  Given the journey from the 'first period' to menopause is a personal adventure, reaching menopause is somewhat analagous to learning to drive a car - challenging in the beginning but less difficult over time. An example of this concept can been seen in the data by observing the high number of questions posted shortly after the 'first period' and the low number of questions leading to perimenopause and menopause. Comparable models to this concept can be seen in Psychology as the 'Power law of practice' and the Learning Curve. Therefore, the data suggests that the more menstral cramps one experiences, the less questions one posts."
      ]
    },
    {
      "metadata": {
        "id": "SfXoJFYkcfZx",
        "colab_type": "text"
      },
      "cell_type": "markdown",
      "source": [
        "#### Group by Age"
      ]
    },
    {
      "metadata": {
        "id": "e7ikXmjEcoB2",
        "colab_type": "code",
        "outputId": "c9b1d8b6-efa5-412e-fe42-7be0df38a3e0",
        "colab": {
          "base_uri": "https://localhost:8080/",
          "height": 349
        }
      },
      "cell_type": "code",
      "source": [
        "# Group female posts by age\n",
        "female_age_df = df_dysmenorrhea_posts_female.groupby(['age'])['age'].count()\n",
        "\n",
        "# Plot 2-column graph for side-by-side comparisson\n",
        "fig, (ax1, ax2) = plt.subplots(1,2,figsize=(15,5))\n",
        "\n",
        "# Plot female posts by age\n",
        "ax1.plot(female_age_df)\n",
        "ax1.set(xlabel='Age (years)', ylabel='Questions',\n",
        "       title='Number of questions by age - Female')\n",
        "\n",
        "# Plot simple Inverse curve to illustrate Learning Curve\n",
        "# Arbitrary stop and step values\n",
        "x = np.arange(1,16*np.pi,0.1) #start,stop,step\n",
        "y = 1/(x**2)\n",
        "\n",
        "ax2.plot(x,y)\n",
        "ax2.set(xlabel='Experience (years)', ylabel='Learning',\n",
        "       title='Logarithmic Learning Curve')\n",
        "\n",
        "# Turn off tick labels\n",
        "\n",
        "ax2.set_yticklabels([])\n",
        "ax2.set_xticklabels([])\n",
        "\n",
        "# Render plot\n",
        "plt.show()"
      ],
      "execution_count": 88,
      "outputs": [
        {
          "output_type": "display_data",
          "data": {
            "image/png": "[encoded data removed]",
            "text/plain": [
              "<Figure size 1080x360 with 2 Axes>"
            ]
          },
          "metadata": {
            "tags": []
          }
        }
      ]
    },
    {
      "metadata": {
        "id": "bqgR_seSCS92",
        "colab_type": "text"
      },
      "cell_type": "markdown",
      "source": [
        "###  Sentiment Analysis of radomly selected Dysmenorrhea posts\n",
        "\n",
        "If women who have more experience with dysmenorrhea post fewer questions related to menstral cramps, is there a measurable variance in the verbal tone, feeling, opinion, or sentiment in their posts? To analyze this question, we used Sentiment Analysis (aka Opinion Mining) - a discipline within Natural Language Processing (NLP) that uses algorithms to identify and extract 'opinions' (subjective or objective expressions) within text to quantify sentiment. [15]. To calcuate the sentiment scores for the questions posted in the Dysmenorrhea dataset, we used \n",
        "the Microsoft Cognitive Sentitment Analysis API service. It provides clients with the ability to send a body of text and have its sentiment scored between 0.0 (negative) and 1.0 (positive), with 0.5 as a neutral sentiment. According to Microsoft ' Sentiment score is generated using classification techniques. The input features of the classifier include n-grams, features generated from part-of-speech tags, and word embeddings.' [14]. The following table illustrates selected questions from the data set and their corresponding score and polarity.\n",
        "\n",
        "\n",
        "| Question | Sentiment Score | Sentiment Polarity\n",
        "| :- | :- | :- |\n",
        "| What's a great natural remedy for cramps? |  0.9238 | Positive\n",
        "| Is it normal to have mild cramping when you are 13 weeks pregnant? |  0.5 | Neutral\n",
        "| I am having really painful abdominal cramps and I don't know why or how to get rid of them. Help!!! |  0.0286 | Negative\n",
        "\n",
        "<br/>\n",
        "Given that the discomfort level of dysmenorrhea is subjective, and often varies based on number of experiences, we measured the sentiment score of 250 random questions from each age group to determine if there is an appreciable variation in the average sentiment scores between age groups. Based on analysis of mean sentiment scores (Low:0.1267, High: 0.1735) across all age group, the was no substantial variance in sentiment, therefore on average, all age groups showed a strong negative sentiment when posting dysmenorrhea related questions.\n",
        "\n"
      ]
    },
    {
      "metadata": {
        "id": "N6podEyThu_V",
        "colab_type": "code",
        "outputId": "49545baf-24ac-4ae6-d5f1-bc5100a313be",
        "colab": {
          "base_uri": "https://localhost:8080/",
          "height": 153
        }
      },
      "cell_type": "code",
      "source": [
        "# Load CSV data from Github\n",
        "url_female_sentiment_0_17 = \"https://raw.githubusercontent.com/william-screen/iu-data-science-information-visualization-583/master/client-project/data/female_semantic_analysis_random_0_17.csv\"\n",
        "url_female_sentiment_18_24 = \"https://raw.githubusercontent.com/william-screen/iu-data-science-information-visualization-583/master/client-project/data/female_semantic_analysis_random_18_24.csv\"\n",
        "url_female_sentiment_25_34 = \"https://raw.githubusercontent.com/william-screen/iu-data-science-information-visualization-583/master/client-project/data/female_semantic_analysis_random_25_34.csv\"\n",
        "url_female_sentiment_35_44 = \"https://raw.githubusercontent.com/william-screen/iu-data-science-information-visualization-583/master/client-project/data/female_semantic_analysis_random_35_44.csv\"\n",
        "url_female_sentiment_45_54 = \"https://raw.githubusercontent.com/william-screen/iu-data-science-information-visualization-583/master/client-project/data/female_semantic_analysis_random_45_54.csv\"\n",
        "\n",
        "df_female_sentiment_0_17 = pd.read_csv(url_female_sentiment_0_17, sep=',')\n",
        "df_female_sentiment_18_24 = pd.read_csv(url_female_sentiment_18_24, sep=',')\n",
        "df_female_sentiment_25_34 = pd.read_csv(url_female_sentiment_25_34, sep=',')\n",
        "df_female_sentiment_35_44 = pd.read_csv(url_female_sentiment_35_44, sep=',')\n",
        "df_female_sentiment_45_54 = pd.read_csv(url_female_sentiment_45_54, sep=',')\n",
        "\n",
        "# Create list of sentiment scores\n",
        "data = [df_female_sentiment_0_17['documents.score']\n",
        "        ,df_female_sentiment_18_24['documents.score']\n",
        "        ,df_female_sentiment_25_34['documents.score']\n",
        "        ,df_female_sentiment_35_44['documents.score']\n",
        "        ,df_female_sentiment_45_54['documents.score']]\n",
        "\n",
        "data_cols = ['0-17', '18-24', '25-34', '35-44', '45-54']\n",
        "data_rows = ['Min', '25%', 'Mean', '50%', '75%', 'Max', 'Std']\n",
        "\n",
        "# Calcuate stats aggregates\n",
        "data_max = [round(x.max(),4) for x in data]\n",
        "data_avg = [round(x.mean(),4) for x in data]\n",
        "data_min = [round(x.min(),4) for x in data]\n",
        "data_std = [round(x.std(),4) for x in data]\n",
        "data_qrtl_25 = [round(x.quantile(0.25),4) for x in data]\n",
        "data_qrtl_50 = [round(x.quantile(0.50),4) for x in data]\n",
        "data_qrtl_75 = [round(x.quantile(0.75),4) for x in data]\n",
        "\n",
        "# Define a dictionary containing sentiment statistical score data \n",
        "data_stats = [data_min, data_qrtl_25, data_avg, data_qrtl_50, data_qrtl_75,data_max, data_std]\n",
        "\n",
        "# Create DataFrame\n",
        "df_sentiment_data = pd.DataFrame(data_stats, index=data_rows, columns=data_cols)\n",
        "\n",
        "# Print DataFrame\n",
        "print(df_sentiment_data)"
      ],
      "execution_count": 130,
      "outputs": [
        {
          "output_type": "stream",
          "text": [
            "        0-17   18-24   25-34   35-44   45-54\n",
            "Min   0.0014  0.0000  0.0001  0.0000  0.0000\n",
            "25%   0.0630  0.0527  0.0562  0.0476  0.0429\n",
            "Mean  0.1545  0.1735  0.1724  0.1442  0.1267\n",
            "50%   0.1000  0.1178  0.0895  0.0860  0.0891\n",
            "75%   0.1643  0.1907  0.1456  0.1523  0.1387\n",
            "Max   1.0000  0.9751  0.9975  0.9987  0.9619\n",
            "Std   0.1887  0.2061  0.2315  0.1955  0.1672\n"
          ],
          "name": "stdout"
        }
      ]
    },
    {
      "metadata": {
        "id": "MApJ5JeuOrHU",
        "colab_type": "code",
        "colab": {
          "base_uri": "https://localhost:8080/",
          "height": 403
        },
        "outputId": "1d36fb9c-7c93-4cd7-c62d-1f27966f0f06"
      },
      "cell_type": "code",
      "source": [
        "\n",
        "# Create a figure instance\n",
        "fig = plt.figure(1, figsize=(9, 6))\n",
        "\n",
        "# Create an axes instance\n",
        "ax = fig.add_subplot(111)\n",
        "\n",
        "# Create the boxplot\n",
        "bp = ax.boxplot(data, whis=[0, 100], showfliers=True, labels=data_cols)\n",
        "\n",
        "ax.set(xlabel='Age (years)', ylabel='Sentiment score',\n",
        "       title='Sentiment Analysis by Age Group - Females')\n",
        "\n",
        "plt.show()"
      ],
      "execution_count": 131,
      "outputs": [
        {
          "output_type": "display_data",
          "data": {
            "image/png": "[encoded data removed]",
            "text/plain": [
              "<Figure size 648x432 with 1 Axes>"
            ]
          },
          "metadata": {
            "tags": []
          }
        }
      ]
    },
    {
      "metadata": {
        "id": "tZtSNoZzPQ5S",
        "colab_type": "text"
      },
      "cell_type": "markdown",
      "source": [
        "\n",
        "#### References\n",
        "[15] https://monkeylearn.com/sentiment-analysis/"
      ]
    }
  ]
}